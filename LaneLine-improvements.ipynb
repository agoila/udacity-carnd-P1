{
 "cells": [
  {
   "cell_type": "code",
   "execution_count": 7,
   "metadata": {
    "collapsed": true
   },
   "outputs": [],
   "source": [
    "#importing some useful packages\n",
    "import matplotlib.pyplot as plt\n",
    "import matplotlib.image as mpimg\n",
    "import numpy as np\n",
    "import cv2\n",
    "# Import everything needed to edit/save/watch video clips\n",
    "from moviepy.editor import VideoFileClip\n",
    "from IPython.display import HTML\n",
    "import os\n",
    "%matplotlib inline"
   ]
  },
  {
   "cell_type": "code",
   "execution_count": 8,
   "metadata": {
    "collapsed": true
   },
   "outputs": [],
   "source": [
    "image = mpimg.imread('test_video_frames_challenge/frame140.jpg')"
   ]
  },
  {
   "cell_type": "code",
   "execution_count": 9,
   "metadata": {
    "collapsed": true
   },
   "outputs": [],
   "source": [
    "import math\n",
    "\n",
    "# Calculate image height and width\n",
    "h = image.shape[0]\n",
    "w = image.shape[1]\n",
    "\n",
    "def grayscale(img):\n",
    "    \"\"\"Applies the Grayscale transform\n",
    "    This will return an image with only one color channel\n",
    "    but NOTE: to see the returned image as grayscale\n",
    "    (assuming your grayscaled image is called 'gray')\n",
    "    you should call plt.imshow(gray, cmap='gray')\"\"\"\n",
    "    return cv2.cvtColor(img, cv2.COLOR_RGB2GRAY)\n",
    "    # Or use BGR2GRAY if you read an image with cv2.imread()\n",
    "    # return cv2.cvtColor(img, cv2.COLOR_BGR2GRAY)\n",
    "    \n",
    "def canny(img, low_threshold, high_threshold):\n",
    "    \"\"\"Applies the Canny transform\"\"\"\n",
    "    return cv2.Canny(img, low_threshold, high_threshold)\n",
    "\n",
    "def gaussian_blur(img, kernel_size):\n",
    "    \"\"\"Applies a Gaussian Noise kernel\"\"\"\n",
    "    return cv2.GaussianBlur(img, (kernel_size, kernel_size), 0)\n",
    "\n",
    "def region_of_interest(img, vertices):\n",
    "    \"\"\"\n",
    "    Applies an image mask.\n",
    "    \n",
    "    Only keeps the region of the image defined by the polygon\n",
    "    formed from `vertices`. The rest of the image is set to black.\n",
    "    \"\"\"\n",
    "    #defining a blank mask to start with\n",
    "    mask = np.zeros_like(img)   \n",
    "    \n",
    "    #defining a 3 channel or 1 channel color to fill the mask with depending on the input image\n",
    "    if len(img.shape) > 2:\n",
    "        channel_count = img.shape[2]  # i.e. 3 or 4 depending on your image\n",
    "        ignore_mask_color = (255,) * channel_count\n",
    "    else:\n",
    "        ignore_mask_color = 255\n",
    "        \n",
    "    #filling pixels inside the polygon defined by \"vertices\" with the fill color    \n",
    "    cv2.fillPoly(mask, vertices, ignore_mask_color)\n",
    "    \n",
    "    #returning the image only where mask pixels are nonzero\n",
    "    masked_image = cv2.bitwise_and(img, mask)\n",
    "    return masked_image\n",
    "\n",
    "\n",
    "def draw_lines_part1(img, lines, color=[255, 0, 0], thickness=2):\n",
    "    \"\"\"\n",
    "    NOTE: this is the function you might want to use as a starting point once you want to \n",
    "    average/extrapolate the line segments you detect to map out the full\n",
    "    extent of the lane (going from the result shown in raw-lines-example.mp4\n",
    "    to that shown in P1_example.mp4).  \n",
    "    \n",
    "    Think about things like separating line segments by their \n",
    "    slope ((y2-y1)/(x2-x1)) to decide which segments are part of the left\n",
    "    line vs. the right line.  Then, you can average the position of each of \n",
    "    the lines and extrapolate to the top and bottom of the lane.\n",
    "    \n",
    "    This function draws `lines` with `color` and `thickness`.    \n",
    "    Lines are drawn on the image inplace (mutates the image).\n",
    "    If you want to make the lines semi-transparent, think about combining\n",
    "    this function with the weighted_img() function below\n",
    "    \"\"\"    \n",
    "    for line in lines:\n",
    "        for x1,y1,x2,y2 in line:\n",
    "            cv2.line(img, (x1, y1), (x2, y2), color, thickness)\n",
    "                 \n",
    "\n",
    "def draw_lines_part2(img, lines, color=[255, 0, 0], thickness=10):\n",
    "    \"\"\"\n",
    "    NOTE: this is the function you might want to use as a starting point once you want to \n",
    "    average/extrapolate the line segments you detect to map out the full\n",
    "    extent of the lane (going from the result shown in raw-lines-example.mp4\n",
    "    to that shown in P1_example.mp4).  \n",
    "    \n",
    "    Think about things like separating line segments by their \n",
    "    slope ((y2-y1)/(x2-x1)) to decide which segments are part of the left\n",
    "    line vs. the right line.  Then, you can average the position of each of \n",
    "    the lines and extrapolate to the top and bottom of the lane.\n",
    "    \n",
    "    This function draws `lines` with `color` and `thickness`.    \n",
    "    Lines are drawn on the image inplace (mutates the image).\n",
    "    If you want to make the lines semi-transparent, think about combining\n",
    "    this function with the weighted_img() function below\n",
    "    \"\"\"\n",
    "    # Making left/right x and y lists global.\n",
    "    global x_p_l \n",
    "    global y_p_l\n",
    "    global x_p_r \n",
    "    global y_p_r\n",
    "    \n",
    "    # Initializing the lists as empty.\n",
    "    x_p_l = []\n",
    "    y_p_l = []\n",
    "    x_p_r = []\n",
    "    y_p_r = []\n",
    "    slope_l = []\n",
    "    slope_r = []\n",
    "    \n",
    "    # Sorting points into left x and y OR right x and y lists, \n",
    "    # based on slope range.\n",
    "    \n",
    "    for line in lines:\n",
    "        for x1,y1,x2,y2 in line:\n",
    "            slope = ((y2-y1)/(x2-x1))\n",
    "            if not np.isnan(slope) or np.isinf(slope) or (slope == 0):\n",
    "                if slope < -0.6 and slope > -1:\n",
    "                    x_p_l += [x1, x2]\n",
    "                    y_p_l += [y1, y2]\n",
    "                    slope_l += [slope]\n",
    "                elif slope > 0.2 and slope < 1.5:\n",
    "                    x_p_r += [x1, x2]\n",
    "                    y_p_r += [y1, y2]\n",
    "                    slope_r += [slope]\n",
    "    \n",
    "    # Average out the x and y points, and calculate the mean slopes.\n",
    "    avg_x_l = np.mean(x_p_l, dtype=np.float32)\n",
    "    avg_x_r = np.mean(x_p_r, dtype=np.float32)\n",
    "    avg_y_l = np.mean(y_p_l, dtype=np.float32)\n",
    "    avg_y_r = np.mean(y_p_r, dtype=np.float32)\n",
    "    avg_slope_l = np.mean(slope_l, dtype=np.float32)\n",
    "    avg_slope_r = np.mean(slope_r, dtype=np.float32)\n",
    "    \n",
    "    # Calculate intercepts from the means above\n",
    "    # b = y - mx\n",
    "    b_l = avg_y_l - (avg_slope_l * avg_x_l)\n",
    "    b_r = avg_y_r - (avg_slope_r * avg_x_r)\n",
    "    \n",
    "    # Calculate X coordinates of the lines to be drawn\n",
    "    # using information above. The Y values are the \n",
    "    # y coordinates of the bounding box/mask as defined\n",
    "    # in the pipeline further below.\n",
    "    y_max = y_mask[0]\n",
    "    y_min = y_mask[1]\n",
    "    \n",
    "    # X = (Y - b) / m\n",
    "    X_l_lo = (y_max - b_l) / avg_slope_l\n",
    "    X_l_hi = (y_min - b_l) / avg_slope_l\n",
    "    \n",
    "    X_r_lo = (y_max - b_r) / avg_slope_r\n",
    "    X_r_hi = (y_min - b_r) / avg_slope_r\n",
    "    \n",
    "    # Draw lines on the left side and the right side of the image\n",
    "    # using cv2.line() function, and (X,Y) calculated above as points. \n",
    "    img_l = cv2.line(img, (int(X_l_lo), y_max), (int(X_l_hi), y_min), color, thickness)\n",
    "    cv2.line(img_l, (int(X_r_lo), y_max), (int(X_r_hi), y_min), color, thickness)\n",
    "        \n",
    "            \n",
    "    \n",
    "        \n",
    "def hough_lines_p1(img, rho, theta, threshold, min_line_len, max_line_gap):\n",
    "    \"\"\"\n",
    "    `img` should be the output of a Canny transform.\n",
    "        \n",
    "    Returns an image with hough lines drawn.\n",
    "    \"\"\"\n",
    "    lines = cv2.HoughLinesP(img, rho, theta, threshold, np.array([]), minLineLength=min_line_len, maxLineGap=max_line_gap)\n",
    "    line_img = np.zeros((img.shape[0], img.shape[1], 3), dtype=np.uint8)\n",
    "    draw_lines_part1(line_img, lines)\n",
    "    return line_img\n",
    "\n",
    "def hough_lines_p2(img, rho, theta, threshold, min_line_len, max_line_gap):\n",
    "    \"\"\"\n",
    "    `img` should be the output of a Canny transform.\n",
    "        \n",
    "    Returns an image with hough lines drawn.\n",
    "    \"\"\"\n",
    "    lines = cv2.HoughLinesP(img, rho, theta, threshold, np.array([]), minLineLength=min_line_len, maxLineGap=max_line_gap)\n",
    "    line_img = np.zeros((img.shape[0], img.shape[1], 3), dtype=np.uint8)\n",
    "    draw_lines_part2(line_img, lines)\n",
    "    return line_img\n",
    "\n",
    "# Python 3 has support for cool math symbols.\n",
    "\n",
    "def weighted_img(img, initial_img, α=0.8, β=1., λ=0.):\n",
    "    \"\"\"\n",
    "    `img` is the output of the hough_lines(), An image with lines drawn on it.\n",
    "    Should be a blank image (all black) with lines drawn on it.\n",
    "    \n",
    "    `initial_img` should be the image before any processing.\n",
    "    \n",
    "    The result image is computed as follows:\n",
    "    \n",
    "    initial_img * α + img * β + λ\n",
    "    NOTE: initial_img and img must be the same shape!\n",
    "    \"\"\"\n",
    "    return cv2.addWeighted(initial_img, α, img, β, λ)\n",
    "\n",
    "def draw_roi(img):\n",
    "    \"\"\"\n",
    "    `img` is the output of the weighted_img(), an image with lines drawn on it.\n",
    "    \n",
    "    The resultant image has ROI drawn on it using cv2.polylines().\n",
    "    \n",
    "    \"\"\"\n",
    "    pts = np.array([[(w//10 + 4,h),((w//2 - 60), (h//2) + 60), \\\n",
    "                        ((w//2 + 80), (h//2) + 60), (w - 20,h)]], dtype=np.int32)\n",
    "    cv2.polylines(img, pts, False, [0,0,255], thickness=4)   "
   ]
  },
  {
   "cell_type": "code",
   "execution_count": 10,
   "metadata": {
    "collapsed": true
   },
   "outputs": [],
   "source": [
    "# TODO: Build your pipeline that will draw lane lines on the test_images\n",
    "# then save them to the test_images directory.\n",
    "\n",
    "############################## Pipeline ############################\n",
    "# Make a copy\n",
    "im_copy = np.copy(image)"
   ]
  },
  {
   "cell_type": "code",
   "execution_count": 11,
   "metadata": {},
   "outputs": [
    {
     "data": {
      "image/png": "[encoded data removed]",
      "text/plain": [
       "<matplotlib.figure.Figure at 0x97bd278>"
      ]
     },
     "metadata": {},
     "output_type": "display_data"
    },
    {
     "data": {
      "image/png": "[encoded data removed]",
      "text/plain": [
       "<matplotlib.figure.Figure at 0x9e2fd30>"
      ]
     },
     "metadata": {},
     "output_type": "display_data"
    }
   ],
   "source": [
    "# Convert original to HSV and display the 3 layers\n",
    "hsv = cv2.cvtColor(im_copy, cv2.COLOR_RGB2HSV)\n",
    "\n",
    "# define range of yellow and white color in HSV\n",
    "lower_yellow = np.array([10,100,100])\n",
    "upper_yellow= np.array([100,255,255])\n",
    "\n",
    "# Threshold the HSV image to get only yellow and white colors\n",
    "mask_y = cv2.inRange(hsv, lower_yellow, upper_yellow)\n",
    "\n",
    "plt.imshow(mask_y) and plt.show()\n",
    "res = cv2.bitwise_and(im_copy, im_copy, mask=mask_y)\n",
    "plt.imshow(res) and plt.show()"
   ]
  },
  {
   "cell_type": "code",
   "execution_count": 14,
   "metadata": {},
   "outputs": [
    {
     "data": {
      "image/png": "[encoded data removed]",
      "text/plain": [
       "<matplotlib.figure.Figure at 0xab4b630>"
      ]
     },
     "metadata": {},
     "output_type": "display_data"
    },
    {
     "data": {
      "image/png": "[encoded data removed]",
      "text/plain": [
       "<matplotlib.figure.Figure at 0xa0a4dd8>"
      ]
     },
     "metadata": {},
     "output_type": "display_data"
    }
   ],
   "source": [
    "# Convert original to HLS and display the 3 layers\n",
    "hls = cv2.cvtColor(im_copy, cv2.COLOR_RGB2HLS)\n",
    "    \n",
    "lower_white = np.array([0,20,0])\n",
    "upper_white = np.array([255,255,20])\n",
    "\n",
    "mask_w = cv2.inRange(im_copy, lower_white, upper_white)\n",
    "\n",
    "plt.imshow(mask_w) and plt.show()\n",
    "res1 = cv2.bitwise_and(im_copy, im_copy, mask=mask_w)\n",
    "plt.imshow(res1) and plt.show()"
   ]
  },
  {
   "cell_type": "code",
   "execution_count": null,
   "metadata": {},
   "outputs": [],
   "source": [
    "# Convert original to YUV and display the 3 layers\n",
    "yuv = cv2.cvtColor(im_copy, cv2.COLOR_RGB2YUV)\n",
    "for i in range(yuv.shape[2]):\n",
    "    plt.imshow(yuv[:,:,i]) and plt.show()"
   ]
  },
  {
   "cell_type": "code",
   "execution_count": null,
   "metadata": {
    "collapsed": true
   },
   "outputs": [],
   "source": [
    "# Perform histogram equalization"
   ]
  },
  {
   "cell_type": "code",
   "execution_count": null,
   "metadata": {
    "collapsed": true
   },
   "outputs": [],
   "source": []
  },
  {
   "cell_type": "code",
   "execution_count": null,
   "metadata": {
    "collapsed": true
   },
   "outputs": [],
   "source": []
  },
  {
   "cell_type": "markdown",
   "metadata": {},
   "source": []
  },
  {
   "cell_type": "code",
   "execution_count": 6,
   "metadata": {
    "collapsed": true
   },
   "outputs": [],
   "source": [
    "### Pipeline for testing different colorspaces ###\n",
    "\n",
    "def lane_pipeline(img):\n",
    "    \n",
    "    # HLS\n",
    "    #final_image = cv2.cvtColor(img, cv2.COLOR_RGB2HLS)\n",
    "    \n",
    "    # YUV\n",
    "    #final_image = cv2.cvtColor(img, cv2.COLOR_RGB2YUV)\n",
    "    \n",
    "    # Applying histogram equalization\n",
    "    #hist,bins = np.histogram(img.flatten(),256,[0,256])\n",
    "    #cdf = hist.cumsum()\n",
    "    #cdf_normalized = cdf * hist.max()/ cdf.max()\n",
    "    \n",
    "    #cdf_m = np.ma.masked_equal(cdf,0)\n",
    "    #cdf_m = (cdf_m - cdf_m.min())*255/(cdf_m.max()-cdf_m.min())\n",
    "    #cdf = np.ma.filled(cdf_m,0).astype('uint8')\n",
    "    \n",
    "    #img2 = cdf[img]\n",
    "    \n",
    "    # Convert original to HSV and display the 3 layers\n",
    "    hsv = cv2.cvtColor(img, cv2.COLOR_RGB2HSV)\n",
    "\n",
    "    # define range of yellow and white color in HSV\n",
    "    lower_yellow = np.array([10,100,100])\n",
    "    upper_yellow= np.array([100,255,255])\n",
    "    \n",
    "    lower_white = np.array([0,0,187])\n",
    "    upper_white = np.array([255,20,255])\n",
    "\n",
    "    # Threshold the HSV image to get only yellow and white colors\n",
    "    mask_y = cv2.inRange(hsv, lower_yellow, upper_yellow)\n",
    "    #mask_w = cv2.inRange(im_copy, lower_white, upper_white)\n",
    "\n",
    "    res = cv2.bitwise_and(img, img, mask=mask_y)\n",
    "    \n",
    "    # HSV = cv2.cvtColor(your_image, cv2.COLOR_RGB2HSV)\n",
    "\n",
    "    # For yellow\n",
    "    # yellow = cv2.inRange(HSV, (20, 100, 100), (50, 255, 255))\n",
    "\n",
    "    # For white\n",
    "    # sensitivity_1 = 68\n",
    "    # white = cv2.inRange(HSV, (0,0,255-sensitivity_1), (255,20,255))\n",
    "\n",
    "    # sensitivity_2 = 60\n",
    "    # HSL = cv2.cvtColor(your_image, cv2.COLOR_RGB2HLS)\n",
    "    # white_2 = cv2.inRange(HSL, (0,255-sensitivity_2,0), (255,255,sensitivity_2))\n",
    "    # white_3 = cv2.inRange(your_image, (200,200,200), (255,255,255))\n",
    "\n",
    "    # bit_layer = your_bit_layer | yellow | white | white_2 | white_3\n",
    "    \n",
    "    # Bitwise-AND mask and original image\n",
    "    \n",
    "    # grayscale image\n",
    "    #gray = grayscale(img)\n",
    "    \n",
    "    # Apply equalizeHist\n",
    "    #eq_hist = cv2.equalizeHist(gray)\n",
    "    \n",
    "    # Apply CLAHE\n",
    "    #clahe = cv2.createCLAHE(clipLimit=2.0, tileGridSize=(8,8))\n",
    "    #cl1 = clahe.apply(gray)\n",
    "    \n",
    "    #cl2 = np.dstack((eq_hist, eq_hist, eq_hist))\n",
    "    #v = hsv[:,:,2]\n",
    "    #final = np.dstack((v,v,v))\n",
    "    \n",
    "    \n",
    "    \n",
    "    #final_img = np.dstack((l,l,l))\n",
    " \n",
    "    return res # img2 # final_img"
   ]
  },
  {
   "cell_type": "code",
   "execution_count": null,
   "metadata": {
    "collapsed": true
   },
   "outputs": [],
   "source": []
  },
  {
   "cell_type": "code",
   "execution_count": 3,
   "metadata": {},
   "outputs": [
    {
     "name": "stdout",
     "output_type": "stream",
     "text": [
      "Directory exists.\n"
     ]
    }
   ],
   "source": [
    "# Make sure the directory 'test_videos_output/' exists\n",
    "# If not, create one here:\n",
    "if os.path.exists('test_videos_output/colorspace_examples/'):\n",
    "    print('Directory exists.')    \n",
    "else:\n",
    "    os.mkdir('test_videos_output/colorspace_examples/')"
   ]
  },
  {
   "cell_type": "code",
   "execution_count": 4,
   "metadata": {},
   "outputs": [
    {
     "name": "stdout",
     "output_type": "stream",
     "text": [
      "[MoviePy] >>>> Building video test_videos_output/colorspace_examples/challenge.mp4\n",
      "[MoviePy] Writing video test_videos_output/colorspace_examples/challenge.mp4\n"
     ]
    },
    {
     "name": "stderr",
     "output_type": "stream",
     "text": [
      " 99%|████████████████████████████████████████████████████████████████████████████████████████████████████████████████████████████████████████████████████ | 150/151 [00:03<00:00, 41.04it/s]\n"
     ]
    },
    {
     "name": "stdout",
     "output_type": "stream",
     "text": [
      "[MoviePy] Done.\n",
      "[MoviePy] >>>> Video ready: test_videos_output/colorspace_examples/challenge.mp4 \n",
      "\n",
      "[MoviePy] >>>> Building video test_videos_output/colorspace_examples/challenge.mp4\n",
      "[MoviePy] Writing video test_videos_output/colorspace_examples/challenge.mp4\n"
     ]
    },
    {
     "name": "stderr",
     "output_type": "stream",
     "text": [
      " 99%|████████████████████████████████████████████████████████████████████████████████████████████████████████████████████████████████████████████████████ | 150/151 [00:03<00:00, 43.70it/s]\n"
     ]
    },
    {
     "name": "stdout",
     "output_type": "stream",
     "text": [
      "[MoviePy] Done.\n",
      "[MoviePy] >>>> Video ready: test_videos_output/colorspace_examples/challenge.mp4 \n",
      "\n",
      "[MoviePy] >>>> Building video test_videos_output/colorspace_examples/challenge.mp4\n",
      "[MoviePy] Writing video test_videos_output/colorspace_examples/challenge.mp4\n"
     ]
    },
    {
     "name": "stderr",
     "output_type": "stream",
     "text": [
      " 99%|████████████████████████████████████████████████████████████████████████████████████████████████████████████████████████████████████████████████████ | 150/151 [00:03<00:00, 41.98it/s]\n"
     ]
    },
    {
     "name": "stdout",
     "output_type": "stream",
     "text": [
      "[MoviePy] Done.\n",
      "[MoviePy] >>>> Video ready: test_videos_output/colorspace_examples/challenge.mp4 \n",
      "\n",
      "[MoviePy] >>>> Building video test_videos_output/colorspace_examples/challenge.mp4\n",
      "[MoviePy] Writing video test_videos_output/colorspace_examples/challenge.mp4\n"
     ]
    },
    {
     "name": "stderr",
     "output_type": "stream",
     "text": [
      " 99%|████████████████████████████████████████████████████████████████████████████████████████████████████████████████████████████████████████████████████ | 150/151 [00:03<00:00, 41.72it/s]\n"
     ]
    },
    {
     "name": "stdout",
     "output_type": "stream",
     "text": [
      "[MoviePy] Done.\n",
      "[MoviePy] >>>> Video ready: test_videos_output/colorspace_examples/challenge.mp4 \n",
      "\n",
      "[MoviePy] >>>> Building video test_videos_output/colorspace_examples/challenge.mp4\n",
      "[MoviePy] Writing video test_videos_output/colorspace_examples/challenge.mp4\n"
     ]
    },
    {
     "name": "stderr",
     "output_type": "stream",
     "text": [
      " 99%|████████████████████████████████████████████████████████████████████████████████████████████████████████████████████████████████████████████████████ | 150/151 [00:03<00:00, 41.30it/s]\n"
     ]
    },
    {
     "name": "stdout",
     "output_type": "stream",
     "text": [
      "[MoviePy] Done.\n",
      "[MoviePy] >>>> Video ready: test_videos_output/colorspace_examples/challenge.mp4 \n",
      "\n",
      "[MoviePy] >>>> Building video test_videos_output/colorspace_examples/challenge.mp4\n",
      "[MoviePy] Writing video test_videos_output/colorspace_examples/challenge.mp4\n"
     ]
    },
    {
     "name": "stderr",
     "output_type": "stream",
     "text": [
      " 99%|████████████████████████████████████████████████████████████████████████████████████████████████████████████████████████████████████████████████████ | 150/151 [00:03<00:00, 42.11it/s]\n"
     ]
    },
    {
     "name": "stdout",
     "output_type": "stream",
     "text": [
      "[MoviePy] Done.\n",
      "[MoviePy] >>>> Video ready: test_videos_output/colorspace_examples/challenge.mp4 \n",
      "\n",
      "[MoviePy] >>>> Building video test_videos_output/colorspace_examples/challenge.mp4\n",
      "[MoviePy] Writing video test_videos_output/colorspace_examples/challenge.mp4\n"
     ]
    },
    {
     "name": "stderr",
     "output_type": "stream",
     "text": [
      " 99%|████████████████████████████████████████████████████████████████████████████████████████████████████████████████████████████████████████████████████ | 150/151 [00:03<00:00, 46.86it/s]\n"
     ]
    },
    {
     "name": "stdout",
     "output_type": "stream",
     "text": [
      "[MoviePy] Done.\n",
      "[MoviePy] >>>> Video ready: test_videos_output/colorspace_examples/challenge.mp4 \n",
      "\n",
      "[MoviePy] >>>> Building video test_videos_output/colorspace_examples/challenge.mp4\n",
      "[MoviePy] Writing video test_videos_output/colorspace_examples/challenge.mp4\n"
     ]
    },
    {
     "name": "stderr",
     "output_type": "stream",
     "text": [
      " 99%|████████████████████████████████████████████████████████████████████████████████████████████████████████████████████████████████████████████████████ | 150/151 [00:03<00:00, 38.50it/s]\n"
     ]
    },
    {
     "name": "stdout",
     "output_type": "stream",
     "text": [
      "[MoviePy] Done.\n",
      "[MoviePy] >>>> Video ready: test_videos_output/colorspace_examples/challenge.mp4 \n",
      "\n",
      "4.08 s ± 262 ms per loop (mean ± std. dev. of 7 runs, 1 loop each)\n"
     ]
    }
   ],
   "source": [
    "challenge_output = 'test_videos_output/colorspace_examples/challenge.mp4'\n",
    "## To speed up the testing process you may want to try your pipeline on a shorter subclip of the video\n",
    "## To do so add .subclip(start_second,end_second) to the end of the line below\n",
    "## Where start_second and end_second are integer values representing the start and end of the subclip\n",
    "## You may also uncomment the following line for a subclip of the first 5 seconds\n",
    "clip3 = VideoFileClip('test_videos/challenge.mp4').subclip(1,7)\n",
    "##clip3 = VideoFileClip('test_videos/challenge.mp4')\n",
    "challenge_clip = clip3.fl_image(lane_pipeline)\n",
    "%timeit challenge_clip.write_videofile(challenge_output, audio=False)"
   ]
  },
  {
   "cell_type": "code",
   "execution_count": 5,
   "metadata": {},
   "outputs": [
    {
     "data": {
      "text/html": [
       "\n",
       "<video width=\"960\" height=\"540\" controls>\n",
       "  <source src=\"test_videos_output/colorspace_examples/challenge.mp4\">\n",
       "</video>\n"
      ],
      "text/plain": [
       "<IPython.core.display.HTML object>"
      ]
     },
     "execution_count": 5,
     "metadata": {},
     "output_type": "execute_result"
    }
   ],
   "source": [
    "HTML(\"\"\"\n",
    "<video width=\"960\" height=\"540\" controls>\n",
    "  <source src=\"{0}\">\n",
    "</video>\n",
    "\"\"\".format(challenge_output))"
   ]
  },
  {
   "cell_type": "code",
   "execution_count": null,
   "metadata": {
    "collapsed": true
   },
   "outputs": [],
   "source": []
  },
  {
   "cell_type": "code",
   "execution_count": null,
   "metadata": {
    "collapsed": true
   },
   "outputs": [],
   "source": []
  },
  {
   "cell_type": "code",
   "execution_count": null,
   "metadata": {
    "collapsed": true
   },
   "outputs": [],
   "source": []
  },
  {
   "cell_type": "code",
   "execution_count": null,
   "metadata": {
    "collapsed": true
   },
   "outputs": [],
   "source": []
  }
 ],
 "metadata": {
  "anaconda-cloud": {},
  "kernelspec": {
   "display_name": "Python 3",
   "language": "python",
   "name": "python3"
  },
  "language_info": {
   "codemirror_mode": {
    "name": "ipython",
    "version": 3
   },
   "file_extension": ".py",
   "mimetype": "text/x-python",
   "name": "python",
   "nbconvert_exporter": "python",
   "pygments_lexer": "ipython3",
   "version": "3.5.2"
  },
  "widgets": {
   "state": {},
   "version": "1.1.2"
  }
 },
 "nbformat": 4,
 "nbformat_minor": 1
}
