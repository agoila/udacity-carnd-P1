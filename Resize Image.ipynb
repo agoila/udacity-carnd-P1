{
 "cells": [
  {
   "cell_type": "code",
   "execution_count": 1,
   "metadata": {
    "collapsed": true
   },
   "outputs": [],
   "source": [
    "# Creating a script to resize the image used for Writeup\n",
    "\n",
    "#importing some useful packages\n",
    "import matplotlib.pyplot as plt\n",
    "import matplotlib.image as mpimg\n",
    "import numpy as np\n",
    "import cv2"
   ]
  },
  {
   "cell_type": "code",
   "execution_count": 2,
   "metadata": {
    "collapsed": true
   },
   "outputs": [],
   "source": [
    "# Create a list of folders for editing the image.\n",
    "folder = ['test_images/', 'test_images_canny_output/', 'test_images_hough_output/', \\\n",
    "          'test_images_masked_output/', 'test_images_output/p1_examples/']"
   ]
  },
  {
   "cell_type": "code",
   "execution_count": 4,
   "metadata": {},
   "outputs": [],
   "source": [
    "count = 0\n",
    "for i in folder:\n",
    "    img = mpimg.imread(i + 'solidWhiteCurve.jpg')\n",
    "    res = cv2.resize(img, (300,169), interpolation = cv2.INTER_AREA)\n",
    "    count += 1\n",
    "    mpimg.imsave('resized_images/solidWhiteCurve{}.jpg'.format(count), res)"
   ]
  }
 ],
 "metadata": {
  "kernelspec": {
   "display_name": "Python 3",
   "language": "python",
   "name": "python3"
  },
  "language_info": {
   "codemirror_mode": {
    "name": "ipython",
    "version": 3
   },
   "file_extension": ".py",
   "mimetype": "text/x-python",
   "name": "python",
   "nbconvert_exporter": "python",
   "pygments_lexer": "ipython3",
   "version": "3.5.2"
  },
  "widgets": {
   "state": {},
   "version": "1.1.2"
  }
 },
 "nbformat": 4,
 "nbformat_minor": 2
}
